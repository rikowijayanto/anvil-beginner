{
  "nbformat": 4,
  "nbformat_minor": 0,
  "metadata": {
    "colab": {
      "name": "Anvil 3 - Speech to Text.ipynb",
      "provenance": [],
      "authorship_tag": "ABX9TyMRwKeSGEzEkbhx557SA/gl",
      "include_colab_link": true
    },
    "kernelspec": {
      "name": "python3",
      "display_name": "Python 3"
    }
  },
  "cells": [
    {
      "cell_type": "markdown",
      "metadata": {
        "id": "view-in-github",
        "colab_type": "text"
      },
      "source": [
        "<a href=\"https://colab.research.google.com/github/rikowijayanto/anvil-beginner/blob/master/Anvil_3_Speech_to_Text.ipynb\" target=\"_parent\"><img src=\"https://colab.research.google.com/assets/colab-badge.svg\" alt=\"Open In Colab\"/></a>"
      ]
    },
    {
      "cell_type": "markdown",
      "metadata": {
        "id": "nZEH8EBJtnEf",
        "colab_type": "text"
      },
      "source": [
        "================= SPEECH TO TEXT ===============\n",
        "\n",
        "This document is to describe how to create an easy application to detect our speech and convert it into text using Python.\n",
        "The limitation of this application is only can be used to detect english.\n",
        "\n",
        "**Step 1**\n",
        "Create the dashboard or app design using Anvil\n",
        "\n",
        "![alt text](https://drive.google.com/uc?id=1EtiMuTd6gox4hy6SOmWd5ovKi3cE2miL)"
      ]
    },
    {
      "cell_type": "markdown",
      "metadata": {
        "id": "Q2BPwm7pv4RO",
        "colab_type": "text"
      },
      "source": [
        "**Step 2** Connect the uplink and key into the Google Colaboratory. Our google colaboratory will be treated as server.\n",
        "\n",
        "```\n",
        "# This is formatted as code\n",
        "```\n",
        "\n"
      ]
    },
    {
      "cell_type": "code",
      "metadata": {
        "id": "mQCEXouKwG3U",
        "colab_type": "code",
        "colab": {
          "base_uri": "https://localhost:8080/",
          "height": 462
        },
        "outputId": "b5d1d494-68d3-4371-df74-33585eb1a8d3"
      },
      "source": [
        "#install the anvil uplink\n",
        "!pip install anvil-uplink\n",
        "\n",
        "#connect into Anvil server\n",
        "import anvil.server\n",
        "\n",
        "anvil.server.connect(\"RXGXKGAI2AFRDK5UA63FSOG4-O5QQUOE2BK43MHOV\")"
      ],
      "execution_count": 1,
      "outputs": [
        {
          "output_type": "stream",
          "text": [
            "Collecting anvil-uplink\n",
            "\u001b[?25l  Downloading https://files.pythonhosted.org/packages/c5/64/dd154d877b29491ebd81b675ed48cec7b67a0020b643e0697e5bf92c142f/anvil_uplink-0.3.30-py2.py3-none-any.whl (51kB)\n",
            "\r\u001b[K     |██████▎                         | 10kB 17.5MB/s eta 0:00:01\r\u001b[K     |████████████▋                   | 20kB 1.7MB/s eta 0:00:01\r\u001b[K     |███████████████████             | 30kB 2.2MB/s eta 0:00:01\r\u001b[K     |█████████████████████████▎      | 40kB 1.6MB/s eta 0:00:01\r\u001b[K     |███████████████████████████████▋| 51kB 2.0MB/s eta 0:00:01\r\u001b[K     |████████████████████████████████| 61kB 1.9MB/s \n",
            "\u001b[?25hCollecting ws4py\n",
            "\u001b[?25l  Downloading https://files.pythonhosted.org/packages/53/20/4019a739b2eefe9282d3822ef6a225250af964b117356971bd55e274193c/ws4py-0.5.1.tar.gz (51kB)\n",
            "\r\u001b[K     |██████▍                         | 10kB 14.5MB/s eta 0:00:01\r\u001b[K     |████████████▊                   | 20kB 17.2MB/s eta 0:00:01\r\u001b[K     |███████████████████▏            | 30kB 22.3MB/s eta 0:00:01\r\u001b[K     |█████████████████████████▌      | 40kB 13.2MB/s eta 0:00:01\r\u001b[K     |███████████████████████████████▉| 51kB 12.6MB/s eta 0:00:01\r\u001b[K     |████████████████████████████████| 61kB 5.7MB/s \n",
            "\u001b[?25hCollecting argparse\n",
            "  Downloading https://files.pythonhosted.org/packages/f2/94/3af39d34be01a24a6e65433d19e107099374224905f1e0cc6bbe1fd22a2f/argparse-1.4.0-py2.py3-none-any.whl\n",
            "Requirement already satisfied: future in /usr/local/lib/python3.6/dist-packages (from anvil-uplink) (0.16.0)\n",
            "Requirement already satisfied: six in /usr/local/lib/python3.6/dist-packages (from anvil-uplink) (1.12.0)\n",
            "Building wheels for collected packages: ws4py\n",
            "  Building wheel for ws4py (setup.py) ... \u001b[?25l\u001b[?25hdone\n",
            "  Created wheel for ws4py: filename=ws4py-0.5.1-cp36-none-any.whl size=45215 sha256=97eaec06794ef2a446b7ae4e8aaee00b356ff90f17835fe7285cebccdb86f816\n",
            "  Stored in directory: /root/.cache/pip/wheels/a2/6e/4e/8b0ae12fb9b8a05715256952cf7609a8ab86285fab99b88c68\n",
            "Successfully built ws4py\n",
            "Installing collected packages: ws4py, argparse, anvil-uplink\n",
            "Successfully installed anvil-uplink-0.3.30 argparse-1.4.0 ws4py-0.5.1\n"
          ],
          "name": "stdout"
        },
        {
          "output_type": "display_data",
          "data": {
            "application/vnd.colab-display-data+json": {
              "pip_warning": {
                "packages": [
                  "argparse",
                  "google"
                ]
              }
            }
          },
          "metadata": {
            "tags": []
          }
        },
        {
          "output_type": "stream",
          "text": [
            "Connecting to wss://anvil.works/uplink\n",
            "Anvil websocket open\n",
            "Authenticated OK\n"
          ],
          "name": "stdout"
        }
      ]
    },
    {
      "cell_type": "code",
      "metadata": {
        "id": "YLlUlF72wd_Y",
        "colab_type": "code",
        "colab": {
          "base_uri": "https://localhost:8080/",
          "height": 204
        },
        "outputId": "08023ddc-5fa3-4aa5-f7cb-9d05b43cc919"
      },
      "source": [
        "#create a function to call speech to text server\n",
        "\n",
        "!pip install SpeechRecognition\n",
        "!apt install libasound2-dev portaudio19-dev libportaudio2 libportaudiocpp0 ffmpeg\n",
        "!pip install pyaudio\n",
        "\n",
        "import speech_recognition as sr\n",
        "r = sr.Recognizer()\n",
        "\n",
        "@anvil.server.callable\n",
        "def recognize():\n",
        "    with sr.Microphone() as source:\n",
        "        audio = r.listen(source)\n",
        "        \n",
        "    try:\n",
        "        result = r.recognize_google(audio)\n",
        "        \n",
        "    except:\n",
        "        result = \"Your voice can not be recognized well\"\n",
        "    return result\n",
        "\n"
      ],
      "execution_count": 9,
      "outputs": [
        {
          "output_type": "stream",
          "text": [
            "Requirement already satisfied: SpeechRecognition in /usr/local/lib/python3.6/dist-packages (3.8.1)\n",
            "Reading package lists... Done\n",
            "Building dependency tree       \n",
            "Reading state information... Done\n",
            "libportaudio2 is already the newest version (19.6.0-1).\n",
            "libportaudiocpp0 is already the newest version (19.6.0-1).\n",
            "portaudio19-dev is already the newest version (19.6.0-1).\n",
            "libasound2-dev is already the newest version (1.1.3-5ubuntu0.5).\n",
            "ffmpeg is already the newest version (7:3.4.6-0ubuntu0.18.04.1).\n",
            "0 upgraded, 0 newly installed, 0 to remove and 31 not upgraded.\n",
            "Requirement already satisfied: pyaudio in /usr/local/lib/python3.6/dist-packages (0.2.11)\n"
          ],
          "name": "stdout"
        }
      ]
    },
    {
      "cell_type": "code",
      "metadata": {
        "id": "NyAyH8fSzqM7",
        "colab_type": "code",
        "colab": {}
      },
      "source": [
        ""
      ],
      "execution_count": 0,
      "outputs": []
    },
    {
      "cell_type": "markdown",
      "metadata": {
        "id": "wNtj4XoK40V8",
        "colab_type": "text"
      },
      "source": [
        "**Step 3** Call the function into Anvil dashboard by clicking the record and add some code over there\n",
        "![alt text](https://drive.google.com/uc?id=14yyUtjPwnYq0N14DqnKBu5PWfeeuQ1Kv)"
      ]
    },
    {
      "cell_type": "markdown",
      "metadata": {
        "id": "Rq2J2Ags5s8_",
        "colab_type": "text"
      },
      "source": [
        "**Step 4** Run the function and try to record your voice\n",
        "![alt text](https://drive.google.com/uc?id=1U3PII9Kxfh1r_ezvFMLGLabpOZk7g6z1)"
      ]
    }
  ]
}