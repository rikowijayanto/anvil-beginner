{
  "nbformat": 4,
  "nbformat_minor": 0,
  "metadata": {
    "colab": {
      "name": "Anvil 1 - Luas Tabung.ipynb",
      "provenance": [],
      "collapsed_sections": []
    },
    "kernelspec": {
      "name": "python3",
      "display_name": "Python 3"
    }
  },
  "cells": [
    {
      "cell_type": "code",
      "metadata": {
        "id": "bWhD_FIgy_De",
        "colab_type": "code",
        "outputId": "edf3b9c0-9d74-4a51-b5e7-8d00bdd72a00",
        "colab": {
          "base_uri": "https://localhost:8080/",
          "height": 409
        }
      },
      "source": [
        "#install library dan load ke system\n",
        "!pip install anvil-uplink"
      ],
      "execution_count": 0,
      "outputs": [
        {
          "output_type": "stream",
          "text": [
            "Collecting anvil-uplink\n",
            "\u001b[?25l  Downloading https://files.pythonhosted.org/packages/c5/64/dd154d877b29491ebd81b675ed48cec7b67a0020b643e0697e5bf92c142f/anvil_uplink-0.3.30-py2.py3-none-any.whl (51kB)\n",
            "\r\u001b[K     |██████▎                         | 10kB 18.2MB/s eta 0:00:01\r\u001b[K     |████████████▋                   | 20kB 2.2MB/s eta 0:00:01\r\u001b[K     |███████████████████             | 30kB 2.9MB/s eta 0:00:01\r\u001b[K     |█████████████████████████▎      | 40kB 3.1MB/s eta 0:00:01\r\u001b[K     |███████████████████████████████▋| 51kB 2.5MB/s eta 0:00:01\r\u001b[K     |████████████████████████████████| 61kB 2.3MB/s \n",
            "\u001b[?25hCollecting ws4py\n",
            "\u001b[?25l  Downloading https://files.pythonhosted.org/packages/53/20/4019a739b2eefe9282d3822ef6a225250af964b117356971bd55e274193c/ws4py-0.5.1.tar.gz (51kB)\n",
            "\r\u001b[K     |██████▍                         | 10kB 20.6MB/s eta 0:00:01\r\u001b[K     |████████████▊                   | 20kB 28.5MB/s eta 0:00:01\r\u001b[K     |███████████████████▏            | 30kB 32.4MB/s eta 0:00:01\r\u001b[K     |█████████████████████████▌      | 40kB 21.9MB/s eta 0:00:01\r\u001b[K     |███████████████████████████████▉| 51kB 18.5MB/s eta 0:00:01\r\u001b[K     |████████████████████████████████| 61kB 6.5MB/s \n",
            "\u001b[?25hRequirement already satisfied: future in /usr/local/lib/python3.6/dist-packages (from anvil-uplink) (0.16.0)\n",
            "Collecting argparse\n",
            "  Downloading https://files.pythonhosted.org/packages/f2/94/3af39d34be01a24a6e65433d19e107099374224905f1e0cc6bbe1fd22a2f/argparse-1.4.0-py2.py3-none-any.whl\n",
            "Requirement already satisfied: six in /usr/local/lib/python3.6/dist-packages (from anvil-uplink) (1.12.0)\n",
            "Building wheels for collected packages: ws4py\n",
            "  Building wheel for ws4py (setup.py) ... \u001b[?25l\u001b[?25hdone\n",
            "  Created wheel for ws4py: filename=ws4py-0.5.1-cp36-none-any.whl size=45215 sha256=1c20588f637372381940c7dd5fc62eedefc546aa4874aa0d228c5288dc18e083\n",
            "  Stored in directory: /root/.cache/pip/wheels/a2/6e/4e/8b0ae12fb9b8a05715256952cf7609a8ab86285fab99b88c68\n",
            "Successfully built ws4py\n",
            "Installing collected packages: ws4py, argparse, anvil-uplink\n",
            "Successfully installed anvil-uplink-0.3.30 argparse-1.4.0 ws4py-0.5.1\n"
          ],
          "name": "stdout"
        },
        {
          "output_type": "display_data",
          "data": {
            "application/vnd.colab-display-data+json": {
              "pip_warning": {
                "packages": [
                  "argparse",
                  "google"
                ]
              }
            }
          },
          "metadata": {
            "tags": []
          }
        }
      ]
    },
    {
      "cell_type": "code",
      "metadata": {
        "id": "LesmQJg8zK10",
        "colab_type": "code",
        "outputId": "9a5d4c5d-a411-472b-81f3-5b553150025a",
        "colab": {
          "base_uri": "https://localhost:8080/",
          "height": 71
        }
      },
      "source": [
        "#import anvil server dan menjadikan sebagai server fungsi\n",
        "\n",
        "\n",
        "import anvil.server\n",
        "\n",
        "anvil.server.connect(\"XM3BGHRHLSK5D3XFXJIGAWNQ-TY374GXWIOQMEY4G\")"
      ],
      "execution_count": 0,
      "outputs": [
        {
          "output_type": "stream",
          "text": [
            "Connecting to wss://anvil.works/uplink\n",
            "Anvil websocket open\n",
            "Authenticated OK\n"
          ],
          "name": "stdout"
        }
      ]
    },
    {
      "cell_type": "code",
      "metadata": {
        "id": "PbFxyTVozhpi",
        "colab_type": "code",
        "colab": {}
      },
      "source": [
        "#membuat fungsi hitung\n",
        "import math\n",
        "\n",
        "@anvil.server.callable\n",
        "def hitung_luas_tabung(jari_jari, tinggi):\n",
        "  luas = (2*math.pi*jari_jari*jari_jari) + (2*math.pi*jari_jari*tinggi)\n",
        "  return luas"
      ],
      "execution_count": 0,
      "outputs": []
    },
    {
      "cell_type": "code",
      "metadata": {
        "id": "5ZNHpHXE0gVU",
        "colab_type": "code",
        "outputId": "80e9fc2e-551f-4039-ce98-e2ede35d49b5",
        "colab": {
          "base_uri": "https://localhost:8080/",
          "height": 35
        }
      },
      "source": [
        "print(hitung_luas_tabung(7,7))"
      ],
      "execution_count": 0,
      "outputs": [
        {
          "output_type": "stream",
          "text": [
            "615.7521601035994\n"
          ],
          "name": "stdout"
        }
      ]
    },
    {
      "cell_type": "code",
      "metadata": {
        "id": "OgkN97yW1Grn",
        "colab_type": "code",
        "colab": {}
      },
      "source": [
        ""
      ],
      "execution_count": 0,
      "outputs": []
    }
  ]
}